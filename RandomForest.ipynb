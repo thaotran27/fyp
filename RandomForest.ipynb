{
 "cells": [
  {
   "cell_type": "code",
   "execution_count": 7,
   "id": "5dd89fbd",
   "metadata": {},
   "outputs": [],
   "source": [
    "import numpy as np\n",
    "from glob import glob\n",
    "from os.path import basename\n",
    "\n",
    "def load_features(folder):\n",
    "    dataset = None\n",
    "    classmap = {}\n",
    "    for class_idx, filename in enumerate(glob('%s/*.csv' % folder)):\n",
    "        class_name = basename(filename)[:-4]\n",
    "        classmap[class_idx] = class_name\n",
    "        print(filename)\n",
    "        samples = np.loadtxt(filename, dtype=float, delimiter=',', skiprows=1)\n",
    "        labels = np.ones((len(samples), 1)) * class_idx\n",
    "        samples = np.hstack((samples, labels))\n",
    "        dataset = samples if dataset is None else np.vstack((dataset, samples))\n",
    "\n",
    "    return dataset, classmap\n"
   ]
  },
  {
   "cell_type": "code",
   "execution_count": 5,
   "id": "08d7dc8d",
   "metadata": {},
   "outputs": [],
   "source": [
    "\n"
   ]
  },
  {
   "cell_type": "code",
   "execution_count": null,
   "id": "48ee19cd",
   "metadata": {},
   "outputs": [],
   "source": [
    "folder_name = \"/Users/haihongyu/Desktop/fyp/static_data\"\n",
    "\n",
    "dataset, classmap = load_features(folder_name)\n",
    "\n",
    "print(dataset)\n",
    "print(classmap)"
   ]
  },
  {
   "cell_type": "code",
   "execution_count": null,
   "id": "e4cc2a82",
   "metadata": {},
   "outputs": [],
   "source": [
    "from sklearn.model_selection import train_test_split\n",
    "from sklearn.ensemble import RandomForestClassifier\n",
    "\n",
    "X_train, X_test, y_train, y_test = train_test_split(X, y, test_size=0.33, random_state=42)\n",
    "\n",
    "clf = RandomForestClassifier(max_depth=2, random_state=0)\n",
    "clf.fit(X_train, y_train)\n"
   ]
  },
  {
   "cell_type": "code",
   "execution_count": null,
   "id": "0c8620c7",
   "metadata": {},
   "outputs": [],
   "source": []
  },
  {
   "cell_type": "code",
   "execution_count": null,
   "id": "e5038f27",
   "metadata": {},
   "outputs": [],
   "source": [
    "!python -m pip install micromlgen"
   ]
  },
  {
   "cell_type": "code",
   "execution_count": null,
   "id": "4a6c1ec6",
   "metadata": {},
   "outputs": [],
   "source": [
    "from micromlgen import port\n",
    "\n",
    "if __name__ == '__main__':\n",
    "    features, classmap = load_features('your-data-folder')\n",
    "    classifier = get_model(features)\n",
    "    c_code = port(classifier, classmap=classmap)\n",
    "    print(c_code)"
   ]
  },
  {
   "cell_type": "code",
   "execution_count": null,
   "id": "519afb12",
   "metadata": {},
   "outputs": [],
   "source": []
  }
 ],
 "metadata": {
  "kernelspec": {
   "display_name": "Python 3 (ipykernel)",
   "language": "python",
   "name": "python3"
  },
  "language_info": {
   "codemirror_mode": {
    "name": "ipython",
    "version": 3
   },
   "file_extension": ".py",
   "mimetype": "text/x-python",
   "name": "python",
   "nbconvert_exporter": "python",
   "pygments_lexer": "ipython3",
   "version": "3.10.9"
  }
 },
 "nbformat": 4,
 "nbformat_minor": 5
}
